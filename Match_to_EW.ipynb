{
 "cells": [
  {
   "cell_type": "code",
   "execution_count": 1,
   "metadata": {},
   "outputs": [],
   "source": [
    "import pandas as pd\n",
    "import matplotlib.pyplot as plt\n",
    "#import seaborn as sns\n",
    "from numpy import median\n",
    "import geopandas as gpd\n",
    "#import contextily as cx\n",
    "import plotly.express as px\n",
    "import plotly.graph_objects as go\n",
    "import string\n",
    "import random\n",
    "import numpy as np\n",
    "import re\n",
    "pd.set_option('display.max_rows', 50)"
   ]
  },
  {
   "cell_type": "code",
   "execution_count": 13,
   "metadata": {},
   "outputs": [],
   "source": [
    "file_path = '/Users/franpontin/OneDrive - University of Leeds/CDRC/Projects/IGD/Analysis/product_data/'\n"
   ]
  },
  {
   "cell_type": "code",
   "execution_count": 3,
   "metadata": {},
   "outputs": [],
   "source": [
    "def progress(df):\n",
    "  #gives progress on EW calssificaiton\n",
    "   print('N left to classify:',len(df.loc[df['Eatwell_Segment']=='Not Food',:]),\n",
    "      '(Percentage classified =', \n",
    "      np.round(100-len(df.loc[df['Eatwell_Segment']=='Not Food',:])/len(df)*100,2), '%)')\n"
   ]
  },
  {
   "cell_type": "code",
   "execution_count": 18,
   "metadata": {},
   "outputs": [],
   "source": [
    "def match_to_EW(df, list_of_columns):\n",
    "    df[list_of_columns] =df[list_of_columns].astype('string')\n",
    "    n=len(list_of_columns)\n",
    "    ewList =['EW_' + x for x in list(map(str, list(range(0, n))))]\n",
    "    df[ewList]=np.nan\n",
    "    for i in range(len(ew_cat_wordLists)):\n",
    "        wordList = ew_cat_wordLists[i]\n",
    "        print(i+1, 'categories matched of', len(ew_cat_wordLists)) \n",
    "        for word in wordList:\n",
    "            for j in range(len(w_segList)):\n",
    "            # find where there is a word to macth, \n",
    "            # and it has not yet been matched in another cat (order of cat names important)\n",
    "            # match the word to the word list and assign EW cat to word\n",
    "                        df.loc[(df[w_segList[j]].notnull())&\n",
    "                        (~df[ewList[j]].notnull())&\n",
    "                        (df[w_segList[j]].str.contains(word, case=False, )),#flags=re.IGNORECASE, regex=True\n",
    "                        ewList[j]] = ew_cat[i]\n",
    "    df['nunique_EW']=df[ewList].apply(pd.Series.nunique, axis=1)\n",
    "    #example['EW_multi_cats'] =example[['EW_0','EW_1','EW_2','EW_3','EW_4','EW_5','EW_6','EW_7','EW_8','EW_9','EW_10','EW_11','EW_12']].fillna(\"\").astype(str).fillna(\"\").apply(lambda x: ' '.join(x), axis=1).fillna(\"\")\n",
    "    df['EW_multi_cats'] =df[ewList].apply(lambda x: ', '.join(x[x.notnull()]), axis = 1)\n",
    "    df['total_seg_matched']=df[ewList].count(axis=1)  \n",
    "    mode_n =df[['EW_0','EW_1','EW_2','EW_3','EW_4','EW_5','EW_6']].mode(axis=1).shape[1]\n",
    "    modeList =['mode_' + x for x in list(map(str, list(range(1, mode_n+1))))]\n",
    "    df[modeList] =df[ewList].mode(axis=1)\n",
    "    df['Eatwell_Segment'] = 'Not Food'"
   ]
  },
  {
   "cell_type": "code",
   "execution_count": 21,
   "metadata": {},
   "outputs": [],
   "source": [
    "def assign_EW(df, conditions, confidence_val, confidence_scale, match_detail, ew_cat):\n",
    "    print('N='+str(len(df.loc[conditions,:])))\n",
    "    df.loc[conditions, 'class_confidence_calc']=confidence_val\n",
    "    df.loc[conditions, 'class_confidence']= confidence_scale\n",
    "    df.loc[conditions, 'match_detail']= match_detail\n",
    "    df.loc[conditions&(df['Eatwell_Segment']=='Not Food'),'Eatwell_Segment'] = ew_cat\n",
    "    print('Match conditions:',match_detail)\n",
    "    progress(df)\n",
    "    "
   ]
  },
  {
   "cell_type": "code",
   "execution_count": 6,
   "metadata": {},
   "outputs": [],
   "source": [
    "# def mismatch(df, new_col,col_1,col_2):\n",
    "#     # look at cases where there are two different fat values provided\n",
    "#     df.loc[(df[col_1]!=0)&(df[col_2]!=0)&(df[col_1]!=df[col_2]),new_col] ='mismatch'\n",
    "#     # look at where no fat values provided\n",
    "#     df.loc[(df[col_1]==0)&(df[col_2]==0),new_col] = 'No data'\n",
    "#     # label where fat valeus are available\n",
    "#     df.loc[(df[col_1]!=0)&(df[col_2]==0),new_col] = 'Available OB'\n",
    "#     df.loc[(df[col_1]==0)&(df[col_2]!=0),new_col] = 'Available Brand'\n",
    "#     df.loc[(df[col_1]!=0)&(df[col_2]!=0)&(df[col_1]==df[col_2]),new_col] = 'Available matched OB and Brand'\n",
    "#     print(df[new_col].value_counts())"
   ]
  },
  {
   "cell_type": "code",
   "execution_count": 7,
   "metadata": {},
   "outputs": [],
   "source": [
    "def mismatch(df, new_col,col_1,col_2):\n",
    "    # look at cases where there are two different fat values provided\n",
    "    df.loc[(~df[col_1].isna())&(~df[col_2].isna())&(df[col_1]!=df[col_2]),new_col] ='mismatch'\n",
    "    # look at where no fat values provided\n",
    "    df.loc[(df[col_1].isna())&(df[col_2].isna()),new_col] = 'No data'\n",
    "    # label where fat valeus are available\n",
    "    df.loc[(~df[col_1].isna())&(df[col_2].isna()),new_col] = 'Available OB'\n",
    "    df.loc[(df[col_1].isna())&(~df[col_2].isna()),new_col] = 'Available Brand'\n",
    "    df.loc[(~df[col_1].isna())&(~df[col_2].isna())&(df[col_1]==df[col_2]),new_col] = 'Available matched OB and Brand'\n",
    "    print(df[new_col].value_counts())"
   ]
  },
  {
   "cell_type": "code",
   "execution_count": 14,
   "metadata": {},
   "outputs": [
    {
     "name": "stderr",
     "output_type": "stream",
     "text": [
      "/opt/anaconda3/envs/geo_env/lib/python3.7/site-packages/IPython/core/interactiveshell.py:2714: DtypeWarning: Columns (1,4,5,6,7,8,9,23,24,25,26,27,28,29,30,31,32,33,34,35,36,37,38,39,40,41,42,43,44,46,48,51,52,53,54,56,57,58,60,61,64,66,68,88,89,90,93,94,95) have mixed types.Specify dtype option on import or set low_memory=False.\n",
      "  interactivity=interactivity, compiler=compiler, result=result)\n"
     ]
    }
   ],
   "source": [
    "df = pd.read_csv(file_path+'product_data.csv')\n",
    "veg_list =pd.read_csv(file_path+'veg_list.csv',index_col=0)\n",
    "\n",
    "veg_list =list(veg_list['name'])"
   ]
  },
  {
   "cell_type": "code",
   "execution_count": 16,
   "metadata": {},
   "outputs": [],
   "source": [
    "# Define products in each EW category\n",
    "\n",
    "ew_fnv = veg_list+['courgette','dudhi','mooli', 'gourd','melon','currants', 'sultanas','swede','veg',\n",
    "                   'fruit','gherkin','pickle','olives']\n",
    "ew_car = ['bread','cereal','flour','pasta','pastry','potato','rolls',r'\\brice\\b',\n",
    "          'waffles','zwieback', 'muffin', 'teff', 'bagel', r'\\bcorn\\b', 'spaghetti',\n",
    "          'whole wheat', 'crackers', 'noodles', 'wheat', 'couscous','cous cous', 'tortilla',\n",
    "          'nann','taco','pitta','wrap','chapati','chappatti', 'chapatti','sourdough',r'\\bpave\\b','boule','bloomer','paratha',\n",
    "          'bao','cassava','naan','porridge','museli', 'muesli','baguette','quinoa','ciabatta',r'\\broti\\b',\n",
    "          'sourdough', 'baps', 'brioche','pennoni', 'loaf','fusilli','macaroni','focaccia'] # zwieback is carb or disc? doesn't matter for this tho\n",
    "\n",
    "ew_ptn = ['beef','chicken','domestic eggs', 'lamb','fish','frankfurter',r'\\bham\\b',\n",
    "          'liver loaf','meat','nut','pork','sausage','turkey', 'crustaceans',\n",
    "          'bean', 'chickpea', 'veal','poultry', 'steak', 'neck', 'mince',\n",
    "         'fillet', 'loin', 'ostrich', 'egg', 'mollusk', 'emu', 'goose', 'duck',\n",
    "          'Goat', 'lentils', 'marrow', 'flesh', 'tofu','beancurd', 'prawn', 'hummus', 'houmous',\n",
    "         'haddock','salmon',r'\\bcod\\b','capers','tuna','breast','lobster','thighs','drumstick',\n",
    "          'prosciutto','wagyu','joint', 'quorn', 'bacon', 'brisket','burger','almonds', \n",
    "          r'\\bnuts\\b','pistachios','pecans','butter beans','rotisserie','mortadella','kala chana',\n",
    "         'liver','pig in blanket','seafood'] # marrow very fatty\n",
    "\n",
    "ew_oil = ['butter','margarine',r'\\boil\\b', 'lard','spreads','vegetable oil', 'sunfower oil']\n",
    "ew_dai = ['milk','whole milk','butter milk','cream','cheese','curd','yogurt', 'yoghurt','shortening',\n",
    "          r'\\bmilk alternatives\\b', r'\\blactose free drinks\\b', r'\\boat & nut drinks\\b','kefir','cheesy',\n",
    "          'brie','mozzerella','mozzarella','cheesy single', 'cheddar', 'gloucester','leicester','soya','halloumi',\n",
    "          'wensleydale','coconut milk','stilton', 'paneer','feta','Lactofree','fraiche']\n",
    "\n",
    "ew_dis = ['candy','cake','sweetener','chocolate','choc','dessert','ice cream',\n",
    "          'mustard','mayonnaise','salty snack','pudding powder','popcorn',\n",
    "          'sweet spreads','syrup','sugar','jam','ketchup', 'fudge', 'cocoa',\n",
    "          'snack products','sauce', 'cookie','pastries', 'pudding', 'pancake',\n",
    "         'candies', 'wafer', 'fries', 'crumpets', 'muffins', 'crisps','jam','condiments',\n",
    "          'gravy', 'yeast', 'marmalade', 'conserve','caramel','brownie','bakewell','profiterole',\n",
    "          'Soreen','chips','biscuit', 'scone', 'snack', 'marzipan','toffee','custard',r'\\bicing\\b',\n",
    "          'jelly','stollen','poppadom', 'poppadum','tiramisu','croissant','macaroon','mringue','cheesecake','salad cream',\n",
    "         r'\\bpain au rasin\\b','shortbread','honey','salami','cheesecake','panna cotta','sweets', 'mints', 'donner kerbab',\n",
    "          'hash brown',r'\\bhot cross bun\\b','pick and mix','sharing bag','crouton', 'hot cross bun','bakery',\n",
    "          'dressing','flapjack','swiss roll','pain au raisin','mallow','preserve','trifle']\n",
    "\n",
    "ew_alc = ['brandy','beer','wine','prosecco','liqueur','liquor',r'\\brum\\b','whisky', 'cocktail',\n",
    "          'Liqueur', r'\\bgin\\b','sauvignon','ABV','%','daiquiry','martini','cava','rioja','pilsner','sherry','cider',r'\\bport\\b']\n",
    "ew_com = ['nut/prunes','soup','Instant food products',r'\\bfrozen meal\\b', 'pizza', 'lasagna',\n",
    "          'lasagne','pie', 'burito','pakora','sandwich', 'ready meal', r'\\noodle pots\\b',\n",
    "          'haggis','takeaway', 'meal', 'curry','balti','masala','quiche',r'\\bpate\\b','bolognese',\n",
    "          'bolognaise','carbonara','platter','gyoza', 'coleslaw','pasta bake','granola','sping roll',\n",
    "          'scampi','croquette','sandwich','party food','chilli con carne','hot dog','kmoussaka','enchilada',\n",
    "          'fajita',r'\\bstir fry\\b', 'katsu','salsa']\n",
    "\n",
    "# Add cateogry for infant formula etc. (not incl;uded in adult recommendations)\n",
    "ew_inf = ['formula','babyfood', 'toddler','infant','formula']\n",
    "\n",
    "ew_other =['seasoning', 'baking', 'spices','medical','coriander','HERBS & SPICES',  r'\\bice cube\\b', 'salt']\n",
    "# add beverage cat.\n",
    "\n",
    "ew_bev = ['juice', 'beverage', 'fizzy drink', 'cola', r'\\bcoke\\b',r'\\bminneral water\\b', 'mineral','drink',\n",
    "          'coffee', 'sparkling water','tea', 'lucozade','decaf','tonic','soda','Kombucha', 'bottle', r'\\bcan\\b',\n",
    "          'Sarsaparilla','smoothie','latte', r'\\bginger ale\\b', 'water', r'\\balcohol free\\b', 'ginger ale']\n",
    "\n",
    "# add exclude - food items without significant nutritional contribution in terms of eat well\n",
    "# e.g. spices, herbs, make sure to check salt and sugar)\n",
    "\n",
    "#ew_exc = []\n",
    "\n",
    "ew_cat = ['Fruit & Veg', 'Starchy Carbs', 'Protein', 'Oils & Spreads', 'Dairy & Alt.',\n",
    "          'Discretionary', 'Alcoholic Bev.','Composite', 'Infant', 'Non Alcoholic Bev.', 'Other']\n",
    "\n",
    "ew_cat_wordLists = [ew_fnv,ew_car,ew_ptn,ew_oil,ew_dai,ew_dis,ew_alc,ew_com, ew_inf, ew_bev, ew_other]\n",
    "\n"
   ]
  },
  {
   "cell_type": "code",
   "execution_count": 19,
   "metadata": {},
   "outputs": [
    {
     "name": "stdout",
     "output_type": "stream",
     "text": [
      "1 categories matched of 11\n",
      "2 categories matched of 11\n",
      "3 categories matched of 11\n",
      "4 categories matched of 11\n",
      "5 categories matched of 11\n",
      "6 categories matched of 11\n",
      "7 categories matched of 11\n",
      "8 categories matched of 11\n",
      "9 categories matched of 11\n",
      "10 categories matched of 11\n",
      "11 categories matched of 11\n"
     ]
    }
   ],
   "source": [
    "w_segList =['Shelf_1','Shelf_2', 'Shelf_3', 'Shelf_4', 'Shelf_5','MDSE Subcategory Name','MDSE Category Name']\n",
    "match_to_EW(df, w_segList)"
   ]
  },
  {
   "cell_type": "code",
   "execution_count": 22,
   "metadata": {},
   "outputs": [
    {
     "name": "stdout",
     "output_type": "stream",
     "text": [
      "Percentage with no match on inital join: 5.12%\n"
     ]
    }
   ],
   "source": [
    "print('Percentage with no match on inital join: '+str(round(len(df.loc[df['total_seg_matched']<1])/len(df)*100,2))+\"%\")"
   ]
  },
  {
   "cell_type": "code",
   "execution_count": 23,
   "metadata": {},
   "outputs": [
    {
     "name": "stdout",
     "output_type": "stream",
     "text": [
      "N=9162\n",
      "Match conditions: Product name matched to single EW category more than once\n",
      "N left to classify: 11481 (Percentage classified = 44.38 %)\n"
     ]
    }
   ],
   "source": [
    "assign_EW(df=df, \n",
    "          conditions=((df['nunique_EW']==1 )& (df['total_seg_matched']>1)), \n",
    "          confidence_val=1.00, \n",
    "          confidence_scale='High',\n",
    "          match_detail='Product name matched to single EW category more than once',\n",
    "          ew_cat=df['mode_1'])"
   ]
  },
  {
   "cell_type": "code",
   "execution_count": 26,
   "metadata": {},
   "outputs": [
    {
     "name": "stdout",
     "output_type": "stream",
     "text": [
      "N=3453\n",
      "Match conditions: Product name matched to single EW category once\n",
      "N left to classify: 3819 (Percentage classified = 81.5 %)\n"
     ]
    }
   ],
   "source": [
    "assign_EW(df=df, \n",
    "          conditions=((df['nunique_EW']==1 )& (df['total_seg_matched']==1)), \n",
    "          confidence_val=1.00, \n",
    "          confidence_scale='Fairly High',\n",
    "          match_detail='Product name matched to single EW category once',\n",
    "          ew_cat=df['mode_1'])"
   ]
  },
  {
   "cell_type": "code",
   "execution_count": 27,
   "metadata": {},
   "outputs": [
    {
     "name": "stdout",
     "output_type": "stream",
     "text": [
      "N=0\n",
      "Match conditions: Product name matched to multiple EW categories, most common and first cateogry matched are the same\n",
      "N left to classify: 3819 (Percentage classified = 81.5 %)\n"
     ]
    }
   ],
   "source": [
    "assign_EW(df=df, \n",
    "          conditions=((df['nunique_EW']>=2)&\n",
    "            (df['mode_2'].isna())&\n",
    "            (df['mode_3'].isna())&\n",
    "            (df['Eatwell_Segment']=='Not Food')),\n",
    "          confidence_val=df['nunique_EW']/df['total_seg_matched'], \n",
    "          confidence_scale='Good',\n",
    "          match_detail='Product name matched to multiple EW categories, most common and first cateogry matched are the same',\n",
    "          ew_cat=df['mode_1'])"
   ]
  },
  {
   "cell_type": "code",
   "execution_count": 28,
   "metadata": {},
   "outputs": [
    {
     "data": {
      "text/plain": [
       "Product name matched to single EW category more than once                                              9162\n",
       "Product name matched to multiple EW categories, most common and first cateogry matched are the same    4209\n",
       "Product name matched to single EW category once                                                        3453\n",
       "Name: match_detail, dtype: int64"
      ]
     },
     "execution_count": 28,
     "metadata": {},
     "output_type": "execute_result"
    }
   ],
   "source": [
    "df['match_detail'].value_counts()"
   ]
  },
  {
   "cell_type": "code",
   "execution_count": 29,
   "metadata": {},
   "outputs": [
    {
     "name": "stdout",
     "output_type": "stream",
     "text": [
      "N=240\n",
      "Match conditions: Product name matched to multiple EW categories, more than one most common EW segment (equal likelihood), however one of the most common EW segments is a `Composite` food so classed as such \n",
      "N left to classify: 3579 (Percentage classified = 82.66 %)\n"
     ]
    }
   ],
   "source": [
    "assign_EW(df=df, \n",
    "          conditions=((df['total_seg_matched']==2)&(~df['mode_2'].isna())&(df['Eatwell_Segment']=='Not Food')&\n",
    "                          # and one of those EW cats is composite class as composite\n",
    "                          (df['EW_multi_cats'].str.contains('Composite', case=False))),\n",
    "          confidence_val=1/df['nunique_EW'], \n",
    "          confidence_scale='Good',\n",
    "          match_detail=\"Product name matched to multiple EW categories, more than one most common EW segment (equal likelihood), however one of the most common EW segments is a `Composite` food so classed as such \",\n",
    "          ew_cat='Composite')"
   ]
  },
  {
   "cell_type": "code",
   "execution_count": 30,
   "metadata": {},
   "outputs": [
    {
     "name": "stdout",
     "output_type": "stream",
     "text": [
      "N=1293\n",
      "Match conditions: Product name matched to multiple EW categories, more than one most common EW segment (equal likelihood), however one of the most common EW segments is a `Disceretionary` food so classed as such \n",
      "N left to classify: 2286 (Percentage classified = 88.93 %)\n"
     ]
    }
   ],
   "source": [
    "assign_EW(df=df, \n",
    "          conditions=(df['total_seg_matched']==2)&(~df['mode_2'].isna())&(df['Eatwell_Segment']=='Not Food')&\n",
    "       # if one of the EW cats mathced is 'Discretioanry' then class as discreitoanry\n",
    "       (df['EW_multi_cats'].str.contains('Discretionary', case=False)),\n",
    "          confidence_val=1/df['nunique_EW'], \n",
    "          confidence_scale='Good',\n",
    "          match_detail=\"Product name matched to multiple EW categories, more than one most common EW segment (equal likelihood), however one of the most common EW segments is a `Disceretionary` food so classed as such \",\n",
    "          ew_cat='Discretionary')"
   ]
  },
  {
   "cell_type": "markdown",
   "metadata": {},
   "source": [
    "### For unmatched products split the product description and classify each component of the product description"
   ]
  },
  {
   "cell_type": "code",
   "execution_count": 36,
   "metadata": {},
   "outputs": [
    {
     "name": "stdout",
     "output_type": "stream",
     "text": [
      "For the remaining 2286 products split the product descirption and match based on indvidual components of the description\n"
     ]
    }
   ],
   "source": [
    "print ('For the remaining', df.loc[(df['Eatwell_Segment']=='Not Food'),:].shape[0], 'products split the product descirption and match based on indvidual components of the description')"
   ]
  },
  {
   "cell_type": "code",
   "execution_count": 38,
   "metadata": {},
   "outputs": [
    {
     "name": "stdout",
     "output_type": "stream",
     "text": [
      "1 categories matched of 11\n",
      "2 categories matched of 11\n",
      "3 categories matched of 11\n",
      "4 categories matched of 11\n",
      "5 categories matched of 11\n",
      "6 categories matched of 11\n",
      "7 categories matched of 11\n",
      "8 categories matched of 11\n",
      "9 categories matched of 11\n",
      "10 categories matched of 11\n",
      "11 categories matched of 11\n"
     ]
    }
   ],
   "source": [
    "split_name =df.loc[(df['Eatwell_Segment']=='Not Food'),'name'].str.split(' ', expand=True)\n",
    "split_name.columns =['w0','w1','w2','w3','w4','w5','w6','w7','w8','w9','w10','w11',\n",
    "                     'w12','w13','w14','w15']\n",
    "split_name =split_name.merge(df[['name','Retailer Barcode']], left_index=True, right_index=True, how='left')\n",
    "w_segList =['w0','w1','w2','w3','w4','w5','w6','w7','w8','w9','w10','w11',\n",
    "                     'w12','w13','w14','w15']\n",
    "\n",
    "match_to_EW(split_name, w_segList)"
   ]
  },
  {
   "cell_type": "code",
   "execution_count": 39,
   "metadata": {},
   "outputs": [
    {
     "name": "stdout",
     "output_type": "stream",
     "text": [
      "N=244\n",
      "Match conditions: Product name matched to single EW category more than once\n",
      "N left to classify: 2042 (Percentage classified = 10.67 %)\n"
     ]
    }
   ],
   "source": [
    "assign_EW(df=split_name, \n",
    "          conditions=((split_name['nunique_EW']==1 )& (split_name['total_seg_matched']>1)), \n",
    "          confidence_val=1.00, \n",
    "          confidence_scale='High',\n",
    "          match_detail='Product name matched to single EW category more than once',\n",
    "          ew_cat=df['mode_1'])"
   ]
  },
  {
   "cell_type": "code",
   "execution_count": 40,
   "metadata": {},
   "outputs": [
    {
     "name": "stdout",
     "output_type": "stream",
     "text": [
      "N=1005\n",
      "Match conditions: Product name matched to single EW category once\n",
      "N left to classify: 1037 (Percentage classified = 54.64 %)\n"
     ]
    }
   ],
   "source": [
    "assign_EW(df=split_name, \n",
    "          conditions=((split_name['nunique_EW']==1 )& (split_name['total_seg_matched']==1)), \n",
    "          confidence_val=1.00, \n",
    "          confidence_scale='Fairly High',\n",
    "          match_detail='Product name matched to single EW category once',\n",
    "          ew_cat=df['mode_1'])"
   ]
  },
  {
   "cell_type": "code",
   "execution_count": 41,
   "metadata": {},
   "outputs": [
    {
     "name": "stdout",
     "output_type": "stream",
     "text": [
      "N=205\n",
      "Match conditions: Product name matched to multiple EW categories, most common and first cateogry matched are the same\n",
      "N left to classify: 832 (Percentage classified = 63.6 %)\n"
     ]
    }
   ],
   "source": [
    "assign_EW(df=split_name, \n",
    "          conditions=((split_name['nunique_EW']>=2)&\n",
    "            (split_name['mode_2'].isna())&\n",
    "            (split_name['mode_3'].isna())&\n",
    "            (split_name['Eatwell_Segment']=='Not Food')),\n",
    "          confidence_val=split_name['nunique_EW']/split_name['total_seg_matched'], \n",
    "          confidence_scale='Good',\n",
    "          match_detail='Product name matched to multiple EW categories, most common and first cateogry matched are the same',\n",
    "          ew_cat=split_name['mode_1'])"
   ]
  },
  {
   "cell_type": "code",
   "execution_count": 42,
   "metadata": {},
   "outputs": [
    {
     "name": "stdout",
     "output_type": "stream",
     "text": [
      "N=90\n",
      "Match conditions: Product name matched to multiple EW categories, more than one most common EW segment (equal likelihood), however one of the most common EW segments is a `Composite` food so classed as such \n",
      "N left to classify: 742 (Percentage classified = 67.54 %)\n"
     ]
    }
   ],
   "source": [
    "assign_EW(df=split_name, \n",
    "          conditions=((split_name['total_seg_matched']==2)&(~split_name['mode_2'].isna())&(df['Eatwell_Segment']=='Not Food')&\n",
    "                          # and one of those EW cats is composite class as composite\n",
    "                          (split_name['EW_multi_cats'].str.contains('Composite', case=False))),\n",
    "          confidence_val=1/split_name['nunique_EW'], \n",
    "          confidence_scale='Good',\n",
    "          match_detail=\"Product name matched to multiple EW categories, more than one most common EW segment (equal likelihood), however one of the most common EW segments is a `Composite` food so classed as such \",\n",
    "          ew_cat='Composite')"
   ]
  },
  {
   "cell_type": "code",
   "execution_count": 43,
   "metadata": {},
   "outputs": [
    {
     "name": "stdout",
     "output_type": "stream",
     "text": [
      "N=189\n",
      "Match conditions: Product name matched to multiple EW categories, more than one most common EW segment (equal likelihood), however one of the most common EW segments is a `Disceretionary` food so classed as such \n",
      "N left to classify: 553 (Percentage classified = 75.81 %)\n"
     ]
    }
   ],
   "source": [
    "assign_EW(df=split_name, \n",
    "          conditions=(split_name['total_seg_matched']==2)&(~split_name['mode_2'].isna())&(split_name['Eatwell_Segment']=='Not Food')&\n",
    "       # if one of the EW cats mathced is 'Discretioanry' then class as discreitoanry\n",
    "       (split_name['EW_multi_cats'].str.contains('Discretionary', case=False)),\n",
    "          confidence_val=1/split_name['nunique_EW'], \n",
    "          confidence_scale='Good',\n",
    "          match_detail=\"Product name matched to multiple EW categories, more than one most common EW segment (equal likelihood), however one of the most common EW segments is a `Disceretionary` food so classed as such \",\n",
    "          ew_cat='Discretionary')\n"
   ]
  },
  {
   "cell_type": "markdown",
   "metadata": {},
   "source": [
    "### Combine product description matched data with disaggregated matches "
   ]
  },
  {
   "cell_type": "code",
   "execution_count": 46,
   "metadata": {},
   "outputs": [
    {
     "data": {
      "text/html": [
       "<div>\n",
       "<style scoped>\n",
       "    .dataframe tbody tr th:only-of-type {\n",
       "        vertical-align: middle;\n",
       "    }\n",
       "\n",
       "    .dataframe tbody tr th {\n",
       "        vertical-align: top;\n",
       "    }\n",
       "\n",
       "    .dataframe thead th {\n",
       "        text-align: right;\n",
       "    }\n",
       "</style>\n",
       "<table border=\"1\" class=\"dataframe\">\n",
       "  <thead>\n",
       "    <tr style=\"text-align: right;\">\n",
       "      <th></th>\n",
       "      <th>Unnamed: 0</th>\n",
       "      <th>Retailer Product Name</th>\n",
       "      <th>Retailer Barcode</th>\n",
       "      <th>Retailer Identifier Additional</th>\n",
       "      <th>Retailer Shelf</th>\n",
       "      <th>Shelf_1</th>\n",
       "      <th>Shelf_2</th>\n",
       "      <th>Shelf_3</th>\n",
       "      <th>Shelf_4</th>\n",
       "      <th>Shelf_5</th>\n",
       "      <th>...</th>\n",
       "      <th>EW_7</th>\n",
       "      <th>EW_8</th>\n",
       "      <th>EW_9</th>\n",
       "      <th>EW_10</th>\n",
       "      <th>EW_11</th>\n",
       "      <th>EW_12</th>\n",
       "      <th>EW_13</th>\n",
       "      <th>EW_14</th>\n",
       "      <th>EW_15</th>\n",
       "      <th>mode_4</th>\n",
       "    </tr>\n",
       "  </thead>\n",
       "  <tbody>\n",
       "    <tr>\n",
       "      <th>0</th>\n",
       "      <td>0.0</td>\n",
       "      <td>Britvic Indian Tonic Water 850ml</td>\n",
       "      <td>5.010000e+12</td>\n",
       "      <td>7173266.0</td>\n",
       "      <td>asda &gt; beer, wine &amp; spirits &gt; spirits &gt; mixers...</td>\n",
       "      <td>asda</td>\n",
       "      <td>beer, wine &amp; spirits</td>\n",
       "      <td>spirits</td>\n",
       "      <td>mixers &amp; tonic water</td>\n",
       "      <td>tonic water</td>\n",
       "      <td>...</td>\n",
       "      <td>NaN</td>\n",
       "      <td>NaN</td>\n",
       "      <td>NaN</td>\n",
       "      <td>NaN</td>\n",
       "      <td>NaN</td>\n",
       "      <td>NaN</td>\n",
       "      <td>NaN</td>\n",
       "      <td>NaN</td>\n",
       "      <td>NaN</td>\n",
       "      <td>NaN</td>\n",
       "    </tr>\n",
       "    <tr>\n",
       "      <th>1</th>\n",
       "      <td>1.0</td>\n",
       "      <td>Britvic Indian Tonic Water Low Calorie 24x125</td>\n",
       "      <td>5.010000e+12</td>\n",
       "      <td>7185866.0</td>\n",
       "      <td>asda &gt; beer, wine &amp; spirits &gt; spirits &gt; mixers...</td>\n",
       "      <td>asda</td>\n",
       "      <td>beer, wine &amp; spirits</td>\n",
       "      <td>spirits</td>\n",
       "      <td>mixers &amp; tonic water</td>\n",
       "      <td>tonic water</td>\n",
       "      <td>...</td>\n",
       "      <td>NaN</td>\n",
       "      <td>NaN</td>\n",
       "      <td>NaN</td>\n",
       "      <td>NaN</td>\n",
       "      <td>NaN</td>\n",
       "      <td>NaN</td>\n",
       "      <td>NaN</td>\n",
       "      <td>NaN</td>\n",
       "      <td>NaN</td>\n",
       "      <td>NaN</td>\n",
       "    </tr>\n",
       "    <tr>\n",
       "      <th>2</th>\n",
       "      <td>2.0</td>\n",
       "      <td>Britvic Indian Tonic Water 24x125</td>\n",
       "      <td>5.010000e+12</td>\n",
       "      <td>7185868.0</td>\n",
       "      <td>asda &gt; beer, wine &amp; spirits &gt; spirits &gt; mixers...</td>\n",
       "      <td>asda</td>\n",
       "      <td>beer, wine &amp; spirits</td>\n",
       "      <td>spirits</td>\n",
       "      <td>mixers &amp; tonic water</td>\n",
       "      <td>tonic water</td>\n",
       "      <td>...</td>\n",
       "      <td>NaN</td>\n",
       "      <td>NaN</td>\n",
       "      <td>NaN</td>\n",
       "      <td>NaN</td>\n",
       "      <td>NaN</td>\n",
       "      <td>NaN</td>\n",
       "      <td>NaN</td>\n",
       "      <td>NaN</td>\n",
       "      <td>NaN</td>\n",
       "      <td>NaN</td>\n",
       "    </tr>\n",
       "    <tr>\n",
       "      <th>3</th>\n",
       "      <td>3.0</td>\n",
       "      <td>Greene King Abbot Ale 500ml</td>\n",
       "      <td>5.010000e+12</td>\n",
       "      <td>628536.0</td>\n",
       "      <td>asda &gt; beer, wine &amp; spirits &gt; beer, lager &amp; al...</td>\n",
       "      <td>asda</td>\n",
       "      <td>beer, wine &amp; spirits</td>\n",
       "      <td>beer, lager &amp; ales</td>\n",
       "      <td>ale &amp; bitter</td>\n",
       "      <td>ale</td>\n",
       "      <td>...</td>\n",
       "      <td>NaN</td>\n",
       "      <td>NaN</td>\n",
       "      <td>NaN</td>\n",
       "      <td>NaN</td>\n",
       "      <td>NaN</td>\n",
       "      <td>NaN</td>\n",
       "      <td>NaN</td>\n",
       "      <td>NaN</td>\n",
       "      <td>NaN</td>\n",
       "      <td>NaN</td>\n",
       "    </tr>\n",
       "    <tr>\n",
       "      <th>4</th>\n",
       "      <td>4.0</td>\n",
       "      <td>Greene King Abbot Ale 4x500</td>\n",
       "      <td>5.010000e+12</td>\n",
       "      <td>539003.0</td>\n",
       "      <td>asda &gt; beer, wine &amp; spirits &gt; beer, lager &amp; al...</td>\n",
       "      <td>asda</td>\n",
       "      <td>beer, wine &amp; spirits</td>\n",
       "      <td>beer, lager &amp; ales</td>\n",
       "      <td>ale &amp; bitter</td>\n",
       "      <td>ale</td>\n",
       "      <td>...</td>\n",
       "      <td>NaN</td>\n",
       "      <td>NaN</td>\n",
       "      <td>NaN</td>\n",
       "      <td>NaN</td>\n",
       "      <td>NaN</td>\n",
       "      <td>NaN</td>\n",
       "      <td>NaN</td>\n",
       "      <td>NaN</td>\n",
       "      <td>NaN</td>\n",
       "      <td>NaN</td>\n",
       "    </tr>\n",
       "    <tr>\n",
       "      <th>...</th>\n",
       "      <td>...</td>\n",
       "      <td>...</td>\n",
       "      <td>...</td>\n",
       "      <td>...</td>\n",
       "      <td>...</td>\n",
       "      <td>...</td>\n",
       "      <td>...</td>\n",
       "      <td>...</td>\n",
       "      <td>...</td>\n",
       "      <td>...</td>\n",
       "      <td>...</td>\n",
       "      <td>...</td>\n",
       "      <td>...</td>\n",
       "      <td>...</td>\n",
       "      <td>...</td>\n",
       "      <td>...</td>\n",
       "      <td>...</td>\n",
       "      <td>...</td>\n",
       "      <td>...</td>\n",
       "      <td>...</td>\n",
       "      <td>...</td>\n",
       "    </tr>\n",
       "    <tr>\n",
       "      <th>20565</th>\n",
       "      <td>NaN</td>\n",
       "      <td>NaN</td>\n",
       "      <td>NaN</td>\n",
       "      <td>NaN</td>\n",
       "      <td>NaN</td>\n",
       "      <td>&lt;NA&gt;</td>\n",
       "      <td>&lt;NA&gt;</td>\n",
       "      <td>&lt;NA&gt;</td>\n",
       "      <td>&lt;NA&gt;</td>\n",
       "      <td>&lt;NA&gt;</td>\n",
       "      <td>...</td>\n",
       "      <td>NaN</td>\n",
       "      <td>NaN</td>\n",
       "      <td>NaN</td>\n",
       "      <td>NaN</td>\n",
       "      <td>NaN</td>\n",
       "      <td>NaN</td>\n",
       "      <td>NaN</td>\n",
       "      <td>NaN</td>\n",
       "      <td>NaN</td>\n",
       "      <td>NaN</td>\n",
       "    </tr>\n",
       "    <tr>\n",
       "      <th>20566</th>\n",
       "      <td>NaN</td>\n",
       "      <td>NaN</td>\n",
       "      <td>NaN</td>\n",
       "      <td>NaN</td>\n",
       "      <td>NaN</td>\n",
       "      <td>&lt;NA&gt;</td>\n",
       "      <td>&lt;NA&gt;</td>\n",
       "      <td>&lt;NA&gt;</td>\n",
       "      <td>&lt;NA&gt;</td>\n",
       "      <td>&lt;NA&gt;</td>\n",
       "      <td>...</td>\n",
       "      <td>NaN</td>\n",
       "      <td>NaN</td>\n",
       "      <td>NaN</td>\n",
       "      <td>NaN</td>\n",
       "      <td>NaN</td>\n",
       "      <td>NaN</td>\n",
       "      <td>NaN</td>\n",
       "      <td>NaN</td>\n",
       "      <td>NaN</td>\n",
       "      <td>NaN</td>\n",
       "    </tr>\n",
       "    <tr>\n",
       "      <th>20567</th>\n",
       "      <td>NaN</td>\n",
       "      <td>NaN</td>\n",
       "      <td>NaN</td>\n",
       "      <td>NaN</td>\n",
       "      <td>NaN</td>\n",
       "      <td>&lt;NA&gt;</td>\n",
       "      <td>&lt;NA&gt;</td>\n",
       "      <td>&lt;NA&gt;</td>\n",
       "      <td>&lt;NA&gt;</td>\n",
       "      <td>&lt;NA&gt;</td>\n",
       "      <td>...</td>\n",
       "      <td>NaN</td>\n",
       "      <td>NaN</td>\n",
       "      <td>NaN</td>\n",
       "      <td>NaN</td>\n",
       "      <td>NaN</td>\n",
       "      <td>NaN</td>\n",
       "      <td>NaN</td>\n",
       "      <td>NaN</td>\n",
       "      <td>NaN</td>\n",
       "      <td>NaN</td>\n",
       "    </tr>\n",
       "    <tr>\n",
       "      <th>20593</th>\n",
       "      <td>NaN</td>\n",
       "      <td>NaN</td>\n",
       "      <td>NaN</td>\n",
       "      <td>NaN</td>\n",
       "      <td>NaN</td>\n",
       "      <td>&lt;NA&gt;</td>\n",
       "      <td>&lt;NA&gt;</td>\n",
       "      <td>&lt;NA&gt;</td>\n",
       "      <td>&lt;NA&gt;</td>\n",
       "      <td>&lt;NA&gt;</td>\n",
       "      <td>...</td>\n",
       "      <td>NaN</td>\n",
       "      <td>NaN</td>\n",
       "      <td>NaN</td>\n",
       "      <td>NaN</td>\n",
       "      <td>NaN</td>\n",
       "      <td>NaN</td>\n",
       "      <td>NaN</td>\n",
       "      <td>NaN</td>\n",
       "      <td>NaN</td>\n",
       "      <td>NaN</td>\n",
       "    </tr>\n",
       "    <tr>\n",
       "      <th>20630</th>\n",
       "      <td>NaN</td>\n",
       "      <td>NaN</td>\n",
       "      <td>NaN</td>\n",
       "      <td>NaN</td>\n",
       "      <td>NaN</td>\n",
       "      <td>&lt;NA&gt;</td>\n",
       "      <td>&lt;NA&gt;</td>\n",
       "      <td>&lt;NA&gt;</td>\n",
       "      <td>&lt;NA&gt;</td>\n",
       "      <td>&lt;NA&gt;</td>\n",
       "      <td>...</td>\n",
       "      <td>NaN</td>\n",
       "      <td>NaN</td>\n",
       "      <td>NaN</td>\n",
       "      <td>NaN</td>\n",
       "      <td>NaN</td>\n",
       "      <td>NaN</td>\n",
       "      <td>NaN</td>\n",
       "      <td>NaN</td>\n",
       "      <td>NaN</td>\n",
       "      <td>NaN</td>\n",
       "    </tr>\n",
       "  </tbody>\n",
       "</table>\n",
       "<p>20643 rows × 142 columns</p>\n",
       "</div>"
      ],
      "text/plain": [
       "       Unnamed: 0                          Retailer Product Name  \\\n",
       "0             0.0               Britvic Indian Tonic Water 850ml   \n",
       "1             1.0  Britvic Indian Tonic Water Low Calorie 24x125   \n",
       "2             2.0              Britvic Indian Tonic Water 24x125   \n",
       "3             3.0                    Greene King Abbot Ale 500ml   \n",
       "4             4.0                    Greene King Abbot Ale 4x500   \n",
       "...           ...                                            ...   \n",
       "20565         NaN                                            NaN   \n",
       "20566         NaN                                            NaN   \n",
       "20567         NaN                                            NaN   \n",
       "20593         NaN                                            NaN   \n",
       "20630         NaN                                            NaN   \n",
       "\n",
       "       Retailer Barcode  Retailer Identifier Additional  \\\n",
       "0          5.010000e+12                       7173266.0   \n",
       "1          5.010000e+12                       7185866.0   \n",
       "2          5.010000e+12                       7185868.0   \n",
       "3          5.010000e+12                        628536.0   \n",
       "4          5.010000e+12                        539003.0   \n",
       "...                 ...                             ...   \n",
       "20565               NaN                             NaN   \n",
       "20566               NaN                             NaN   \n",
       "20567               NaN                             NaN   \n",
       "20593               NaN                             NaN   \n",
       "20630               NaN                             NaN   \n",
       "\n",
       "                                          Retailer Shelf Shelf_1  \\\n",
       "0      asda > beer, wine & spirits > spirits > mixers...    asda   \n",
       "1      asda > beer, wine & spirits > spirits > mixers...    asda   \n",
       "2      asda > beer, wine & spirits > spirits > mixers...    asda   \n",
       "3      asda > beer, wine & spirits > beer, lager & al...    asda   \n",
       "4      asda > beer, wine & spirits > beer, lager & al...    asda   \n",
       "...                                                  ...     ...   \n",
       "20565                                                NaN    <NA>   \n",
       "20566                                                NaN    <NA>   \n",
       "20567                                                NaN    <NA>   \n",
       "20593                                                NaN    <NA>   \n",
       "20630                                                NaN    <NA>   \n",
       "\n",
       "                    Shelf_2             Shelf_3               Shelf_4  \\\n",
       "0      beer, wine & spirits             spirits  mixers & tonic water   \n",
       "1      beer, wine & spirits             spirits  mixers & tonic water   \n",
       "2      beer, wine & spirits             spirits  mixers & tonic water   \n",
       "3      beer, wine & spirits  beer, lager & ales          ale & bitter   \n",
       "4      beer, wine & spirits  beer, lager & ales          ale & bitter   \n",
       "...                     ...                 ...                   ...   \n",
       "20565                  <NA>                <NA>                  <NA>   \n",
       "20566                  <NA>                <NA>                  <NA>   \n",
       "20567                  <NA>                <NA>                  <NA>   \n",
       "20593                  <NA>                <NA>                  <NA>   \n",
       "20630                  <NA>                <NA>                  <NA>   \n",
       "\n",
       "           Shelf_5  ...  EW_7  EW_8  EW_9  EW_10  EW_11  EW_12  EW_13  EW_14  \\\n",
       "0      tonic water  ...   NaN   NaN   NaN    NaN    NaN    NaN    NaN    NaN   \n",
       "1      tonic water  ...   NaN   NaN   NaN    NaN    NaN    NaN    NaN    NaN   \n",
       "2      tonic water  ...   NaN   NaN   NaN    NaN    NaN    NaN    NaN    NaN   \n",
       "3              ale  ...   NaN   NaN   NaN    NaN    NaN    NaN    NaN    NaN   \n",
       "4              ale  ...   NaN   NaN   NaN    NaN    NaN    NaN    NaN    NaN   \n",
       "...            ...  ...   ...   ...   ...    ...    ...    ...    ...    ...   \n",
       "20565         <NA>  ...   NaN   NaN   NaN    NaN    NaN    NaN    NaN    NaN   \n",
       "20566         <NA>  ...   NaN   NaN   NaN    NaN    NaN    NaN    NaN    NaN   \n",
       "20567         <NA>  ...   NaN   NaN   NaN    NaN    NaN    NaN    NaN    NaN   \n",
       "20593         <NA>  ...   NaN   NaN   NaN    NaN    NaN    NaN    NaN    NaN   \n",
       "20630         <NA>  ...   NaN   NaN   NaN    NaN    NaN    NaN    NaN    NaN   \n",
       "\n",
       "       EW_15  mode_4  \n",
       "0        NaN     NaN  \n",
       "1        NaN     NaN  \n",
       "2        NaN     NaN  \n",
       "3        NaN     NaN  \n",
       "4        NaN     NaN  \n",
       "...      ...     ...  \n",
       "20565    NaN     NaN  \n",
       "20566    NaN     NaN  \n",
       "20567    NaN     NaN  \n",
       "20593    NaN     NaN  \n",
       "20630    NaN     NaN  \n",
       "\n",
       "[20643 rows x 142 columns]"
      ]
     },
     "execution_count": 46,
     "metadata": {},
     "output_type": "execute_result"
    }
   ],
   "source": [
    "new_df =df\n",
    "new_df = new_df.drop(split_name.index)\n",
    "new_df =pd.concat([new_df, split_name], axis=0)\n",
    "new_df\n",
    "\n"
   ]
  },
  {
   "cell_type": "code",
   "execution_count": 47,
   "metadata": {},
   "outputs": [
    {
     "name": "stdout",
     "output_type": "stream",
     "text": [
      "N=2\n",
      "Match conditions: Product name contains flour so classed as starchy carb.\n",
      "N left to classify: 551 (Percentage classified = 97.33 %)\n",
      "N=13\n",
      "Match conditions: Product name matched to 2 EW categorys, fruit & veg and non alcoholic bev, if contains `in` class as fruit and veg else class as non-alocholic bev.\n",
      "N left to classify: 538 (Percentage classified = 97.39 %)\n",
      "N=66\n",
      "Match conditions: Product name matched to 2 EW categorys, fruit & veg and non alcoholic bev, if contains `in` class as fruit and veg else class as non-alocholic bev.\n",
      "N left to classify: 472 (Percentage classified = 97.71 %)\n",
      "N=26\n",
      "Match conditions: Product name matched to 2 EW categorys, protein and carb. or protein and fruit/veg. clasify as composite\n",
      "N left to classify: 446 (Percentage classified = 97.84 %)\n",
      "N=19\n",
      "Match conditions: Product name matched to 2 EW categorys, protein and carb. or protein and fruit/veg. clasify as composite\n",
      "N left to classify: 427 (Percentage classified = 97.93 %)\n",
      "N=9\n",
      "Match conditions: Product name matched to 2 EW categorys, if product name contains % (alcohol) class as alcoholic bev.\n",
      "N left to classify: 418 (Percentage classified = 97.98 %)\n",
      "N=5\n",
      "Match conditions: Product name matched to 2 EW categorys, if product name contains yoghurt class as dairy\n",
      "N left to classify: 413 (Percentage classified = 98.0 %)\n",
      "N=28\n",
      "Match conditions: Product name matched to 2 EW categorys, if the name contians `with` classify as composite\n",
      "N left to classify: 385 (Percentage classified = 98.13 %)\n"
     ]
    }
   ],
   "source": [
    "assign_EW(df=new_df, \n",
    "          conditions=((new_df['name'].str.contains('flour', case=False))&(new_df['Eatwell_Segment']=='Not Food')),\n",
    "          confidence_val= 1.00,\n",
    "          confidence_scale='Fairly High',\n",
    "          match_detail=\"Product name contains flour so classed as starchy carb.\",\n",
    "          ew_cat =  'Starchy Carbs')\n",
    "          \n",
    "\n",
    "assign_EW(df=new_df,\n",
    "          conditions=((new_df['Eatwell_Segment']=='Not Food')&(new_df['nunique_EW']==2) \n",
    "               &(new_df['EW_multi_cats']=='Fruit & Veg, Non Alcoholic Bev.')\n",
    "               &(new_df['name'].str.contains('in '))), \n",
    "          confidence_val=0.5, \n",
    "          confidence_scale='ok', \n",
    "          match_detail= 'Product name matched to 2 EW categorys, fruit & veg and non alcoholic bev, if contains `in` class as fruit and veg else class as non-alocholic bev.', \n",
    "          ew_cat='Fruit & Veg')\n",
    "assign_EW(df=new_df,\n",
    "          conditions=((new_df['Eatwell_Segment']=='Not Food')&(new_df['nunique_EW']==2) \n",
    "               &(new_df['EW_multi_cats']=='Fruit & Veg, Non Alcoholic Bev.')\n",
    "               &(~new_df['name'].str.contains('in '))), \n",
    "          confidence_val=0.5, \n",
    "          confidence_scale='ok', \n",
    "          match_detail= 'Product name matched to 2 EW categorys, fruit & veg and non alcoholic bev, if contains `in` class as fruit and veg else class as non-alocholic bev.', \n",
    "          ew_cat='Non Alcoholic Bev.')            \n",
    "\n",
    "assign_EW(df=new_df,\n",
    "          conditions=((new_df['Eatwell_Segment']=='Not Food')&\n",
    "                                  (new_df['nunique_EW']==2)&\n",
    "                                  (new_df['EW_multi_cats']=='Fruit & Veg, Starchy Carbs')), \n",
    "          confidence_val=0.5, \n",
    "          confidence_scale='ok', \n",
    "          match_detail= 'Product name matched to 2 EW categorys, protein and carb. or protein and fruit/veg. clasify as composite', \n",
    "          ew_cat='Starchy Carbs')    \n",
    "\n",
    "assign_EW(df=new_df,\n",
    "          conditions=((new_df['Eatwell_Segment']=='Not Food')&\n",
    "                                  (new_df['nunique_EW']==2)&\n",
    "                                  (new_df['EW_multi_cats']=='Protein, Starchy Carbs')), \n",
    "          confidence_val=0.5, \n",
    "          confidence_scale='ok', \n",
    "          match_detail= 'Product name matched to 2 EW categorys, protein and carb. or protein and fruit/veg. clasify as composite', \n",
    "          ew_cat='Starchy Carbs')    \n",
    "\n",
    "assign_EW(df=new_df,\n",
    "          conditions=((new_df['Eatwell_Segment']=='Not Food')& \n",
    "               (new_df['name'].str.contains('%'))), \n",
    "          confidence_val=0.5, \n",
    "          confidence_scale='Good', \n",
    "          match_detail= 'Product name matched to 2 EW categorys, if product name contains % (alcohol) class as alcoholic bev.', \n",
    "          ew_cat='Alcoholic Bev.')   \n",
    "\n",
    "assign_EW(df=new_df,\n",
    "          conditions=((new_df['Eatwell_Segment']=='Not Food')&\n",
    "                                  (new_df['nunique_EW']==2)&\n",
    "                                  (new_df['name'].str.contains('yogurt|yoghurt',case=False))), \n",
    "          confidence_val=0.5, \n",
    "          confidence_scale='Good', \n",
    "          match_detail= 'Product name matched to 2 EW categorys, if product name contains yoghurt class as dairy', \n",
    "          ew_cat='Dairy & Alt.')  \n",
    "\n",
    "assign_EW(df=new_df,\n",
    "          conditions=((new_df['Eatwell_Segment']=='Not Food')&(new_df['name'].str.contains('with'))), \n",
    "          confidence_val=0.5, \n",
    "          confidence_scale='Good', \n",
    "          match_detail= 'Product name matched to 2 EW categorys, if the name contians `with` classify as composite', \n",
    "          ew_cat='Dairy & Alt.')   "
   ]
  },
  {
   "cell_type": "code",
   "execution_count": 48,
   "metadata": {
    "scrolled": true
   },
   "outputs": [
    {
     "name": "stdout",
     "output_type": "stream",
     "text": [
      "N=228\n",
      "Match conditions: Product name matched to 2 or more EW categorys, if not already matched classify as composite\n",
      "N left to classify: 157 (Percentage classified = 99.24 %)\n"
     ]
    }
   ],
   "source": [
    "assign_EW(df=new_df,\n",
    "          conditions=((new_df['Eatwell_Segment']=='Not Food')&(new_df['nunique_EW']>=2)), \n",
    "          confidence_val=0.5, \n",
    "          confidence_scale='Good', \n",
    "          match_detail= 'Product name matched to 2 or more EW categorys, if not already matched classify as composite', \n",
    "          ew_cat='Composite')   \n",
    "\n"
   ]
  },
  {
   "cell_type": "code",
   "execution_count": 49,
   "metadata": {},
   "outputs": [
    {
     "name": "stdout",
     "output_type": "stream",
     "text": [
      "N=3\n",
      "Match conditions: Product name contians `ice` classify as other\n",
      "N left to classify: 154 (Percentage classified = 99.25 %)\n"
     ]
    }
   ],
   "source": [
    "assign_EW(df=new_df,\n",
    "          conditions=((new_df['Eatwell_Segment']=='Not Food')&(new_df['name'].str.contains(r'\\bice\\b', case=False))), \n",
    "          confidence_val=0.9, \n",
    "          confidence_scale='Good', \n",
    "          match_detail= 'Product name contians `ice` classify as other', \n",
    "          ew_cat='Other')   "
   ]
  },
  {
   "cell_type": "code",
   "execution_count": 50,
   "metadata": {
    "scrolled": true
   },
   "outputs": [
    {
     "data": {
      "text/plain": [
       "<AxesSubplot:>"
      ]
     },
     "execution_count": 50,
     "metadata": {},
     "output_type": "execute_result"
    },
    {
     "data": {
      "image/png": "[encoded data removed]",
      "text/plain": [
       "<Figure size 432x288 with 1 Axes>"
      ]
     },
     "metadata": {
      "needs_background": "light"
     },
     "output_type": "display_data"
    }
   ],
   "source": [
    "new_df['Eatwell_Segment'].value_counts().plot(kind='bar')"
   ]
  },
  {
   "cell_type": "code",
   "execution_count": 51,
   "metadata": {},
   "outputs": [],
   "source": [
    "Brand_data= ['Carbohydrate_g','Energy_kj','Fat_g','Fibre_g','Protein_g','Salt_g','Saturates_g','Sugars_g']\n",
    "OB_data = ['Carbohydrate/100g','kJ/100g', 'Fat/100g','Fibre/100g','Protein/100g','Salt/100g','Saturated fat/100g','Sugar/100g']\n",
    "mismatch_cols = ['Carbohydrate_data','Energy_data','Fat_data','Fibre_data','Protein_data', 'Salt_data','Saturated_fat_data','Sugar_data']\n",
    "\n",
    "#new_df[Brand_data]=new_df[Brand_data].apply(pd.to_numeric, errors='coerce').replace(np.nan,0)\n",
    "#new_df[OB_data]=new_df[OB_data].apply(pd.to_numeric, errors='coerce').replace(np.nan,0)"
   ]
  },
  {
   "cell_type": "code",
   "execution_count": 52,
   "metadata": {},
   "outputs": [
    {
     "name": "stdout",
     "output_type": "stream",
     "text": [
      "Available OB       10843\n",
      "Available Brand     4994\n",
      "No data             4409\n",
      "mismatch             397\n",
      "Name: Carbohydrate_data, dtype: int64\n",
      "Available OB       10991\n",
      "Available Brand     4996\n",
      "No data             4261\n",
      "mismatch             395\n",
      "Name: Energy_data, dtype: int64\n",
      "Available OB       10757\n",
      "Available Brand     4994\n",
      "No data             4495\n",
      "mismatch             397\n",
      "Name: Fat_data, dtype: int64\n",
      "Available OB       7951\n",
      "No data            7301\n",
      "Available Brand    4994\n",
      "mismatch            397\n",
      "Name: Fibre_data, dtype: int64\n",
      "Available OB       10775\n",
      "Available Brand     4994\n",
      "No data             4477\n",
      "mismatch             397\n",
      "Name: Protein_data, dtype: int64\n",
      "Available OB       10738\n",
      "Available Brand     4994\n",
      "No data             4514\n",
      "mismatch             397\n",
      "Name: Salt_data, dtype: int64\n",
      "Available OB       10754\n",
      "Available Brand     4994\n",
      "No data             4498\n",
      "mismatch             397\n",
      "Name: Saturated_fat_data, dtype: int64\n",
      "Available OB       10809\n",
      "Available Brand     4994\n",
      "No data             4443\n",
      "mismatch             397\n",
      "Name: Sugar_data, dtype: int64\n"
     ]
    }
   ],
   "source": [
    "for i,j,k in zip(mismatch_cols,Brand_data,OB_data):\n",
    "    mismatch(new_df,i,j,k)"
   ]
  },
  {
   "cell_type": "markdown",
   "metadata": {},
   "source": [
    "NEXT: get all rows containign mismatch"
   ]
  },
  {
   "cell_type": "code",
   "execution_count": 53,
   "metadata": {},
   "outputs": [],
   "source": [
    "new_df['mismatch_present']=(new_df == 'mismatch').any(axis=1)"
   ]
  },
  {
   "cell_type": "code",
   "execution_count": 54,
   "metadata": {},
   "outputs": [],
   "source": [
    "mismatch = new_df.loc[new_df['mismatch_present']==True,:]"
   ]
  },
  {
   "cell_type": "code",
   "execution_count": 55,
   "metadata": {},
   "outputs": [
    {
     "data": {
      "text/html": [
       "<div>\n",
       "<style scoped>\n",
       "    .dataframe tbody tr th:only-of-type {\n",
       "        vertical-align: middle;\n",
       "    }\n",
       "\n",
       "    .dataframe tbody tr th {\n",
       "        vertical-align: top;\n",
       "    }\n",
       "\n",
       "    .dataframe thead th {\n",
       "        text-align: right;\n",
       "    }\n",
       "</style>\n",
       "<table border=\"1\" class=\"dataframe\">\n",
       "  <thead>\n",
       "    <tr style=\"text-align: right;\">\n",
       "      <th></th>\n",
       "      <th>Unnamed: 0</th>\n",
       "      <th>Retailer Product Name</th>\n",
       "      <th>Retailer Barcode</th>\n",
       "      <th>Retailer Identifier Additional</th>\n",
       "      <th>Retailer Shelf</th>\n",
       "      <th>Shelf_1</th>\n",
       "      <th>Shelf_2</th>\n",
       "      <th>Shelf_3</th>\n",
       "      <th>Shelf_4</th>\n",
       "      <th>Shelf_5</th>\n",
       "      <th>...</th>\n",
       "      <th>mode_4</th>\n",
       "      <th>Carbohydrate_data</th>\n",
       "      <th>Energy_data</th>\n",
       "      <th>Fat_data</th>\n",
       "      <th>Fibre_data</th>\n",
       "      <th>Protein_data</th>\n",
       "      <th>Salt_data</th>\n",
       "      <th>Saturated_fat_data</th>\n",
       "      <th>Sugar_data</th>\n",
       "      <th>mismatch_present</th>\n",
       "    </tr>\n",
       "  </thead>\n",
       "  <tbody>\n",
       "    <tr>\n",
       "      <th>13981</th>\n",
       "      <td>13981.0</td>\n",
       "      <td>ASDA Baked Beans in Tomato Sauce 4x410g</td>\n",
       "      <td>21045639.0</td>\n",
       "      <td>21897.0</td>\n",
       "      <td>asda &gt; food cupboard &gt; tinned food &gt; baked beans</td>\n",
       "      <td>asda</td>\n",
       "      <td>food cupboard</td>\n",
       "      <td>tinned food</td>\n",
       "      <td>baked beans</td>\n",
       "      <td>&lt;NA&gt;</td>\n",
       "      <td>...</td>\n",
       "      <td>NaN</td>\n",
       "      <td>mismatch</td>\n",
       "      <td>mismatch</td>\n",
       "      <td>mismatch</td>\n",
       "      <td>mismatch</td>\n",
       "      <td>mismatch</td>\n",
       "      <td>mismatch</td>\n",
       "      <td>mismatch</td>\n",
       "      <td>mismatch</td>\n",
       "      <td>True</td>\n",
       "    </tr>\n",
       "    <tr>\n",
       "      <th>13982</th>\n",
       "      <td>13982.0</td>\n",
       "      <td>ASDA Baked Beans in Tomato Sauce 4x410g</td>\n",
       "      <td>21045639.0</td>\n",
       "      <td>21897.0</td>\n",
       "      <td>asda &gt; food cupboard &gt; tinned food &gt; baked beans</td>\n",
       "      <td>asda</td>\n",
       "      <td>food cupboard</td>\n",
       "      <td>tinned food</td>\n",
       "      <td>baked beans</td>\n",
       "      <td>&lt;NA&gt;</td>\n",
       "      <td>...</td>\n",
       "      <td>NaN</td>\n",
       "      <td>mismatch</td>\n",
       "      <td>mismatch</td>\n",
       "      <td>mismatch</td>\n",
       "      <td>mismatch</td>\n",
       "      <td>mismatch</td>\n",
       "      <td>mismatch</td>\n",
       "      <td>mismatch</td>\n",
       "      <td>mismatch</td>\n",
       "      <td>True</td>\n",
       "    </tr>\n",
       "    <tr>\n",
       "      <th>13984</th>\n",
       "      <td>13984.0</td>\n",
       "      <td>ASDA Soft Scoop Cornish Vanilla Ice Cream 2l</td>\n",
       "      <td>20401016.0</td>\n",
       "      <td>443462.0</td>\n",
       "      <td>asda &gt; frozen food &gt; ice cream parlour &gt; view ...</td>\n",
       "      <td>asda</td>\n",
       "      <td>frozen food</td>\n",
       "      <td>ice cream parlour</td>\n",
       "      <td>view all ice cream parlour</td>\n",
       "      <td>&lt;NA&gt;</td>\n",
       "      <td>...</td>\n",
       "      <td>NaN</td>\n",
       "      <td>mismatch</td>\n",
       "      <td>mismatch</td>\n",
       "      <td>mismatch</td>\n",
       "      <td>mismatch</td>\n",
       "      <td>mismatch</td>\n",
       "      <td>mismatch</td>\n",
       "      <td>mismatch</td>\n",
       "      <td>mismatch</td>\n",
       "      <td>True</td>\n",
       "    </tr>\n",
       "    <tr>\n",
       "      <th>13985</th>\n",
       "      <td>13985.0</td>\n",
       "      <td>ASDA Soft Scoop Cornish Vanilla Ice Cream 2l</td>\n",
       "      <td>20401016.0</td>\n",
       "      <td>443462.0</td>\n",
       "      <td>asda &gt; frozen food &gt; ice cream parlour &gt; view ...</td>\n",
       "      <td>asda</td>\n",
       "      <td>frozen food</td>\n",
       "      <td>ice cream parlour</td>\n",
       "      <td>view all ice cream parlour</td>\n",
       "      <td>&lt;NA&gt;</td>\n",
       "      <td>...</td>\n",
       "      <td>NaN</td>\n",
       "      <td>mismatch</td>\n",
       "      <td>mismatch</td>\n",
       "      <td>mismatch</td>\n",
       "      <td>mismatch</td>\n",
       "      <td>mismatch</td>\n",
       "      <td>mismatch</td>\n",
       "      <td>mismatch</td>\n",
       "      <td>mismatch</td>\n",
       "      <td>True</td>\n",
       "    </tr>\n",
       "    <tr>\n",
       "      <th>13986</th>\n",
       "      <td>13986.0</td>\n",
       "      <td>ASDA Soft Scoop Cornish Vanilla Ice Cream 2l</td>\n",
       "      <td>20401016.0</td>\n",
       "      <td>443462.0</td>\n",
       "      <td>asda &gt; frozen food &gt; ice cream parlour &gt; view ...</td>\n",
       "      <td>asda</td>\n",
       "      <td>frozen food</td>\n",
       "      <td>ice cream parlour</td>\n",
       "      <td>view all ice cream parlour</td>\n",
       "      <td>&lt;NA&gt;</td>\n",
       "      <td>...</td>\n",
       "      <td>NaN</td>\n",
       "      <td>mismatch</td>\n",
       "      <td>mismatch</td>\n",
       "      <td>mismatch</td>\n",
       "      <td>mismatch</td>\n",
       "      <td>mismatch</td>\n",
       "      <td>mismatch</td>\n",
       "      <td>mismatch</td>\n",
       "      <td>mismatch</td>\n",
       "      <td>True</td>\n",
       "    </tr>\n",
       "    <tr>\n",
       "      <th>...</th>\n",
       "      <td>...</td>\n",
       "      <td>...</td>\n",
       "      <td>...</td>\n",
       "      <td>...</td>\n",
       "      <td>...</td>\n",
       "      <td>...</td>\n",
       "      <td>...</td>\n",
       "      <td>...</td>\n",
       "      <td>...</td>\n",
       "      <td>...</td>\n",
       "      <td>...</td>\n",
       "      <td>...</td>\n",
       "      <td>...</td>\n",
       "      <td>...</td>\n",
       "      <td>...</td>\n",
       "      <td>...</td>\n",
       "      <td>...</td>\n",
       "      <td>...</td>\n",
       "      <td>...</td>\n",
       "      <td>...</td>\n",
       "      <td>...</td>\n",
       "    </tr>\n",
       "    <tr>\n",
       "      <th>14557</th>\n",
       "      <td>14557.0</td>\n",
       "      <td>ASDA Wheat Bisks Cereal 48pk</td>\n",
       "      <td>21115202.0</td>\n",
       "      <td>217410.0</td>\n",
       "      <td>asda &gt; vegan &amp; plant based &gt; vegan food &gt; vega...</td>\n",
       "      <td>asda</td>\n",
       "      <td>vegan &amp; plant based</td>\n",
       "      <td>vegan food</td>\n",
       "      <td>vegan food cupboard</td>\n",
       "      <td>vegan cereal</td>\n",
       "      <td>...</td>\n",
       "      <td>NaN</td>\n",
       "      <td>mismatch</td>\n",
       "      <td>mismatch</td>\n",
       "      <td>mismatch</td>\n",
       "      <td>mismatch</td>\n",
       "      <td>mismatch</td>\n",
       "      <td>mismatch</td>\n",
       "      <td>mismatch</td>\n",
       "      <td>mismatch</td>\n",
       "      <td>True</td>\n",
       "    </tr>\n",
       "    <tr>\n",
       "      <th>14558</th>\n",
       "      <td>14558.0</td>\n",
       "      <td>ASDA Pacific Pink Salmon 213g</td>\n",
       "      <td>21081170.0</td>\n",
       "      <td>874271.0</td>\n",
       "      <td>asda &gt; food cupboard &gt; tinned food &gt; tinned fi...</td>\n",
       "      <td>asda</td>\n",
       "      <td>food cupboard</td>\n",
       "      <td>tinned food</td>\n",
       "      <td>tinned fish</td>\n",
       "      <td>salmon</td>\n",
       "      <td>...</td>\n",
       "      <td>NaN</td>\n",
       "      <td>mismatch</td>\n",
       "      <td>mismatch</td>\n",
       "      <td>mismatch</td>\n",
       "      <td>mismatch</td>\n",
       "      <td>mismatch</td>\n",
       "      <td>mismatch</td>\n",
       "      <td>mismatch</td>\n",
       "      <td>mismatch</td>\n",
       "      <td>True</td>\n",
       "    </tr>\n",
       "    <tr>\n",
       "      <th>14559</th>\n",
       "      <td>14559.0</td>\n",
       "      <td>ASDA Pacific Pink Salmon 418g</td>\n",
       "      <td>21081187.0</td>\n",
       "      <td>205219.0</td>\n",
       "      <td>asda &gt; food cupboard &gt; tinned food &gt; tinned fi...</td>\n",
       "      <td>asda</td>\n",
       "      <td>food cupboard</td>\n",
       "      <td>tinned food</td>\n",
       "      <td>tinned fish</td>\n",
       "      <td>salmon</td>\n",
       "      <td>...</td>\n",
       "      <td>NaN</td>\n",
       "      <td>mismatch</td>\n",
       "      <td>mismatch</td>\n",
       "      <td>mismatch</td>\n",
       "      <td>mismatch</td>\n",
       "      <td>mismatch</td>\n",
       "      <td>mismatch</td>\n",
       "      <td>mismatch</td>\n",
       "      <td>mismatch</td>\n",
       "      <td>True</td>\n",
       "    </tr>\n",
       "    <tr>\n",
       "      <th>14560</th>\n",
       "      <td>14560.0</td>\n",
       "      <td>ASDA Pacific Red Salmon 105g</td>\n",
       "      <td>21081194.0</td>\n",
       "      <td>205230.0</td>\n",
       "      <td>asda &gt; food cupboard &gt; tinned food &gt; tinned fi...</td>\n",
       "      <td>asda</td>\n",
       "      <td>food cupboard</td>\n",
       "      <td>tinned food</td>\n",
       "      <td>tinned fish</td>\n",
       "      <td>salmon</td>\n",
       "      <td>...</td>\n",
       "      <td>NaN</td>\n",
       "      <td>mismatch</td>\n",
       "      <td>mismatch</td>\n",
       "      <td>mismatch</td>\n",
       "      <td>mismatch</td>\n",
       "      <td>mismatch</td>\n",
       "      <td>mismatch</td>\n",
       "      <td>mismatch</td>\n",
       "      <td>mismatch</td>\n",
       "      <td>True</td>\n",
       "    </tr>\n",
       "    <tr>\n",
       "      <th>14561</th>\n",
       "      <td>14561.0</td>\n",
       "      <td>ASDA Pacific Red Salmon 105g</td>\n",
       "      <td>21081194.0</td>\n",
       "      <td>205230.0</td>\n",
       "      <td>asda &gt; food cupboard &gt; tinned food &gt; tinned fi...</td>\n",
       "      <td>asda</td>\n",
       "      <td>food cupboard</td>\n",
       "      <td>tinned food</td>\n",
       "      <td>tinned fish</td>\n",
       "      <td>salmon</td>\n",
       "      <td>...</td>\n",
       "      <td>NaN</td>\n",
       "      <td>mismatch</td>\n",
       "      <td>mismatch</td>\n",
       "      <td>mismatch</td>\n",
       "      <td>mismatch</td>\n",
       "      <td>mismatch</td>\n",
       "      <td>mismatch</td>\n",
       "      <td>mismatch</td>\n",
       "      <td>mismatch</td>\n",
       "      <td>True</td>\n",
       "    </tr>\n",
       "  </tbody>\n",
       "</table>\n",
       "<p>397 rows × 151 columns</p>\n",
       "</div>"
      ],
      "text/plain": [
       "       Unnamed: 0                         Retailer Product Name  \\\n",
       "13981     13981.0       ASDA Baked Beans in Tomato Sauce 4x410g   \n",
       "13982     13982.0       ASDA Baked Beans in Tomato Sauce 4x410g   \n",
       "13984     13984.0  ASDA Soft Scoop Cornish Vanilla Ice Cream 2l   \n",
       "13985     13985.0  ASDA Soft Scoop Cornish Vanilla Ice Cream 2l   \n",
       "13986     13986.0  ASDA Soft Scoop Cornish Vanilla Ice Cream 2l   \n",
       "...           ...                                           ...   \n",
       "14557     14557.0                  ASDA Wheat Bisks Cereal 48pk   \n",
       "14558     14558.0                 ASDA Pacific Pink Salmon 213g   \n",
       "14559     14559.0                 ASDA Pacific Pink Salmon 418g   \n",
       "14560     14560.0                  ASDA Pacific Red Salmon 105g   \n",
       "14561     14561.0                  ASDA Pacific Red Salmon 105g   \n",
       "\n",
       "       Retailer Barcode  Retailer Identifier Additional  \\\n",
       "13981        21045639.0                         21897.0   \n",
       "13982        21045639.0                         21897.0   \n",
       "13984        20401016.0                        443462.0   \n",
       "13985        20401016.0                        443462.0   \n",
       "13986        20401016.0                        443462.0   \n",
       "...                 ...                             ...   \n",
       "14557        21115202.0                        217410.0   \n",
       "14558        21081170.0                        874271.0   \n",
       "14559        21081187.0                        205219.0   \n",
       "14560        21081194.0                        205230.0   \n",
       "14561        21081194.0                        205230.0   \n",
       "\n",
       "                                          Retailer Shelf Shelf_1  \\\n",
       "13981   asda > food cupboard > tinned food > baked beans    asda   \n",
       "13982   asda > food cupboard > tinned food > baked beans    asda   \n",
       "13984  asda > frozen food > ice cream parlour > view ...    asda   \n",
       "13985  asda > frozen food > ice cream parlour > view ...    asda   \n",
       "13986  asda > frozen food > ice cream parlour > view ...    asda   \n",
       "...                                                  ...     ...   \n",
       "14557  asda > vegan & plant based > vegan food > vega...    asda   \n",
       "14558  asda > food cupboard > tinned food > tinned fi...    asda   \n",
       "14559  asda > food cupboard > tinned food > tinned fi...    asda   \n",
       "14560  asda > food cupboard > tinned food > tinned fi...    asda   \n",
       "14561  asda > food cupboard > tinned food > tinned fi...    asda   \n",
       "\n",
       "                   Shelf_2            Shelf_3                     Shelf_4  \\\n",
       "13981        food cupboard        tinned food                 baked beans   \n",
       "13982        food cupboard        tinned food                 baked beans   \n",
       "13984          frozen food  ice cream parlour  view all ice cream parlour   \n",
       "13985          frozen food  ice cream parlour  view all ice cream parlour   \n",
       "13986          frozen food  ice cream parlour  view all ice cream parlour   \n",
       "...                    ...                ...                         ...   \n",
       "14557  vegan & plant based         vegan food         vegan food cupboard   \n",
       "14558        food cupboard        tinned food                 tinned fish   \n",
       "14559        food cupboard        tinned food                 tinned fish   \n",
       "14560        food cupboard        tinned food                 tinned fish   \n",
       "14561        food cupboard        tinned food                 tinned fish   \n",
       "\n",
       "            Shelf_5  ...  mode_4  Carbohydrate_data  Energy_data  Fat_data  \\\n",
       "13981          <NA>  ...     NaN           mismatch     mismatch  mismatch   \n",
       "13982          <NA>  ...     NaN           mismatch     mismatch  mismatch   \n",
       "13984          <NA>  ...     NaN           mismatch     mismatch  mismatch   \n",
       "13985          <NA>  ...     NaN           mismatch     mismatch  mismatch   \n",
       "13986          <NA>  ...     NaN           mismatch     mismatch  mismatch   \n",
       "...             ...  ...     ...                ...          ...       ...   \n",
       "14557  vegan cereal  ...     NaN           mismatch     mismatch  mismatch   \n",
       "14558        salmon  ...     NaN           mismatch     mismatch  mismatch   \n",
       "14559        salmon  ...     NaN           mismatch     mismatch  mismatch   \n",
       "14560        salmon  ...     NaN           mismatch     mismatch  mismatch   \n",
       "14561        salmon  ...     NaN           mismatch     mismatch  mismatch   \n",
       "\n",
       "       Fibre_data  Protein_data  Salt_data  Saturated_fat_data  Sugar_data  \\\n",
       "13981    mismatch      mismatch   mismatch            mismatch    mismatch   \n",
       "13982    mismatch      mismatch   mismatch            mismatch    mismatch   \n",
       "13984    mismatch      mismatch   mismatch            mismatch    mismatch   \n",
       "13985    mismatch      mismatch   mismatch            mismatch    mismatch   \n",
       "13986    mismatch      mismatch   mismatch            mismatch    mismatch   \n",
       "...           ...           ...        ...                 ...         ...   \n",
       "14557    mismatch      mismatch   mismatch            mismatch    mismatch   \n",
       "14558    mismatch      mismatch   mismatch            mismatch    mismatch   \n",
       "14559    mismatch      mismatch   mismatch            mismatch    mismatch   \n",
       "14560    mismatch      mismatch   mismatch            mismatch    mismatch   \n",
       "14561    mismatch      mismatch   mismatch            mismatch    mismatch   \n",
       "\n",
       "       mismatch_present  \n",
       "13981              True  \n",
       "13982              True  \n",
       "13984              True  \n",
       "13985              True  \n",
       "13986              True  \n",
       "...                 ...  \n",
       "14557              True  \n",
       "14558              True  \n",
       "14559              True  \n",
       "14560              True  \n",
       "14561              True  \n",
       "\n",
       "[397 rows x 151 columns]"
      ]
     },
     "execution_count": 55,
     "metadata": {},
     "output_type": "execute_result"
    }
   ],
   "source": [
    "mismatch"
   ]
  },
  {
   "cell_type": "code",
   "execution_count": 34,
   "metadata": {},
   "outputs": [],
   "source": [
    "new_df.loc[new_df['mismatch_present']==True,:].to_csv('mismatch.csv')"
   ]
  },
  {
   "cell_type": "code",
   "execution_count": 35,
   "metadata": {},
   "outputs": [],
   "source": [
    "mismatch_percent_diff = ['Carbohydrate_percent_diff','Energy_percent_diff','Fat_percent_diff','Fibre_percent_diff','Protein_percent_diff', 'Salt_percent_diff','Saturated_fat_percent_diff','Sugar_percent_diff']"
   ]
  },
  {
   "cell_type": "code",
   "execution_count": 36,
   "metadata": {},
   "outputs": [
    {
     "data": {
      "text/plain": [
       "Carbohydrate/100g     float64\n",
       "kJ/100g               float64\n",
       "Fat/100g              float64\n",
       "Fibre/100g            float64\n",
       "Protein/100g          float64\n",
       "Salt/100g             float64\n",
       "Saturated fat/100g    float64\n",
       "Sugar/100g            float64\n",
       "dtype: object"
      ]
     },
     "execution_count": 36,
     "metadata": {},
     "output_type": "execute_result"
    }
   ],
   "source": [
    "mismatch[OB_data].dtypes"
   ]
  },
  {
   "cell_type": "code",
   "execution_count": 37,
   "metadata": {},
   "outputs": [
    {
     "data": {
      "text/plain": [
       "13981     4.2\n",
       "13982     4.2\n",
       "13984    15.2\n",
       "13985    15.2\n",
       "13986    15.2\n",
       "         ... \n",
       "14557     4.4\n",
       "14558     0.0\n",
       "14559     0.0\n",
       "14560     0.0\n",
       "14561     0.0\n",
       "Name: Sugar/100g, Length: 397, dtype: float64"
      ]
     },
     "execution_count": 37,
     "metadata": {},
     "output_type": "execute_result"
    }
   ],
   "source": [
    "mismatch[k]"
   ]
  },
  {
   "cell_type": "code",
   "execution_count": 38,
   "metadata": {},
   "outputs": [
    {
     "data": {
      "text/plain": [
       "13981   NaN\n",
       "13982   NaN\n",
       "13984   NaN\n",
       "13985   NaN\n",
       "13986   NaN\n",
       "         ..\n",
       "14557   NaN\n",
       "14558   NaN\n",
       "14559   NaN\n",
       "14560   NaN\n",
       "14561   NaN\n",
       "Name: Sugar_data, Length: 397, dtype: float64"
      ]
     },
     "execution_count": 38,
     "metadata": {},
     "output_type": "execute_result"
    }
   ],
   "source": [
    "mismatch[i].apply(pd.to_numeric, errors='coerce')"
   ]
  },
  {
   "cell_type": "code",
   "execution_count": 39,
   "metadata": {},
   "outputs": [
    {
     "ename": "SyntaxError",
     "evalue": "invalid syntax (<ipython-input-39-e38c637106ee>, line 2)",
     "output_type": "error",
     "traceback": [
      "\u001b[0;36m  File \u001b[0;32m\"<ipython-input-39-e38c637106ee>\"\u001b[0;36m, line \u001b[0;32m2\u001b[0m\n\u001b[0;31m    mismatch[k]=(mismatch[i].apply(pd.to_numeric, errors='coerce'))-mismatch[j].apply(pd.to_numeric, errors='coerce'))/(mismatch[i].apply(pd.to_numeric, errors='coerce'))*100\u001b[0m\n\u001b[0m                                                                                                                     ^\u001b[0m\n\u001b[0;31mSyntaxError\u001b[0m\u001b[0;31m:\u001b[0m invalid syntax\n"
     ]
    }
   ],
   "source": [
    "for i,j,k in zip(Brand_data,OB_data, mismatch_percent_diff):\n",
    "    mismatch[k]=(mismatch[i].apply(pd.to_numeric, errors='coerce'))-mismatch[j].apply(pd.to_numeric, errors='coerce'))/(mismatch[i].apply(pd.to_numeric, errors='coerce'))*100\n",
    "    #print(mismatch[k])\n",
    "    print(i,j,k)"
   ]
  },
  {
   "cell_type": "code",
   "execution_count": null,
   "metadata": {},
   "outputs": [],
   "source": [
    "mismatch[mismatch_percent_diff]"
   ]
  },
  {
   "cell_type": "code",
   "execution_count": null,
   "metadata": {},
   "outputs": [],
   "source": [
    "# look for producst with a >% disaprity between Ob and brand data\n",
    "for i in mismatch[mismatch_percent_diff].columns:\n",
    "   large_mismatch =mismatch.loc[mismatch[i]>=5,:]"
   ]
  },
  {
   "cell_type": "code",
   "execution_count": null,
   "metadata": {},
   "outputs": [],
   "source": [
    "large_mismatch.to_csv('products_with_nutriton_data_disparity.csv')"
   ]
  },
  {
   "cell_type": "markdown",
   "metadata": {},
   "source": [
    "Look at values with missing nutrition data"
   ]
  },
  {
   "cell_type": "code",
   "execution_count": null,
   "metadata": {},
   "outputs": [],
   "source": [
    "new_df['missing_nutrition_data']=(new_df == 'No data').any(axis=1)"
   ]
  },
  {
   "cell_type": "code",
   "execution_count": null,
   "metadata": {},
   "outputs": [],
   "source": [
    "list(new_df)"
   ]
  },
  {
   "cell_type": "code",
   "execution_count": null,
   "metadata": {},
   "outputs": [],
   "source": []
  },
  {
   "cell_type": "code",
   "execution_count": null,
   "metadata": {},
   "outputs": [],
   "source": [
    "new_df.loc[new_df['missing_nutrition_data']==True, 'Eatwell_Segment'].value_counts()"
   ]
  },
  {
   "cell_type": "code",
   "execution_count": null,
   "metadata": {},
   "outputs": [],
   "source": [
    "ew_cat"
   ]
  },
  {
   "cell_type": "code",
   "execution_count": null,
   "metadata": {},
   "outputs": [],
   "source": [
    "new_df.loc[new_df['Eatwell_Segment']=='Non Alcoholic Bev.','Protein_g'].hist()"
   ]
  },
  {
   "cell_type": "code",
   "execution_count": null,
   "metadata": {},
   "outputs": [],
   "source": [
    "new_df[\"kcal/100g\"]"
   ]
  },
  {
   "cell_type": "code",
   "execution_count": null,
   "metadata": {},
   "outputs": [],
   "source": []
  },
  {
   "cell_type": "code",
   "execution_count": null,
   "metadata": {},
   "outputs": [],
   "source": [
    "fig = px.histogram(new_df, x=\"kcal/100g\", y=\"Protein_g\", color=\"Eatwell_Segment\", marginal=\"rug\",\n",
    "                   ) #hover_data selects the variable which appears when hovering over the data points\n",
    "fig.update_xaxes(fixedrange=False)\n",
    "fig.show()\n",
    "# saves as sharable html (could add straight to website)\n",
    "#fig.write_html(\"/Users/franpontin/OneDrive - University of Leeds/CDRC/Projects/IGD/Analysis/interactive_plots/calorie_protein_hist_eatwell.html\")\n",
    "\n"
   ]
  },
  {
   "cell_type": "code",
   "execution_count": null,
   "metadata": {},
   "outputs": [],
   "source": [
    "list(new_df)"
   ]
  },
  {
   "cell_type": "code",
   "execution_count": null,
   "metadata": {},
   "outputs": [],
   "source": [
    "temp =pd.DataFrame(new_df.loc[new_df['missing_nutrition_data']==True,:].groupby('Eatwell_Segment')['fat_data'].value_counts()).rename(columns={'fat_data': 'count'}).reset_index()"
   ]
  },
  {
   "cell_type": "code",
   "execution_count": null,
   "metadata": {},
   "outputs": [],
   "source": [
    "pd.pivot_table(data=pd.DataFrame(new_df.loc[new_df['missing_nutrition_data']==True,:].groupby('Eatwell_Segment')['fat_data'].value_counts()).rename(columns={'fat_data': 'count'}).reset_index(),values='count', index='Eatwell_Segment', columns='fat_data')"
   ]
  },
  {
   "cell_type": "code",
   "execution_count": null,
   "metadata": {},
   "outputs": [],
   "source": [
    "new_df.loc[new_df['missing_nutrition_data']==True,:].groupby('Eatwell_Segment')['fat_data',\n",
    " 'Carbohydrate_data',\n",
    " 'Energy_data',\n",
    " 'Fat_data',\n",
    " 'Fibre_data',\n",
    " 'Protein_data',\n",
    " 'Salt_data',\n",
    " 'Saturated_fat_data',\n",
    " 'Sugar_data'].value_counts()"
   ]
  },
  {
   "cell_type": "code",
   "execution_count": null,
   "metadata": {},
   "outputs": [],
   "source": [
    "new_df.loc[new_df['mismatch_present']==True,]"
   ]
  },
  {
   "cell_type": "markdown",
   "metadata": {},
   "source": [
    "Look at rows with datya missmatch"
   ]
  },
  {
   "cell_type": "code",
   "execution_count": null,
   "metadata": {},
   "outputs": [],
   "source": [
    "list(new_df)"
   ]
  },
  {
   "cell_type": "code",
   "execution_count": null,
   "metadata": {},
   "outputs": [],
   "source": []
  }
 ],
 "metadata": {
  "kernelspec": {
   "display_name": "Python 3",
   "language": "python",
   "name": "python3"
  },
  "language_info": {
   "codemirror_mode": {
    "name": "ipython",
    "version": 3
   },
   "file_extension": ".py",
   "mimetype": "text/x-python",
   "name": "python",
   "nbconvert_exporter": "python",
   "pygments_lexer": "ipython3",
   "version": "3.7.8"
  },
  "toc": {
   "base_numbering": 1,
   "nav_menu": {},
   "number_sections": true,
   "sideBar": true,
   "skip_h1_title": false,
   "title_cell": "Table of Contents",
   "title_sidebar": "Contents",
   "toc_cell": false,
   "toc_position": {},
   "toc_section_display": true,
   "toc_window_display": true
  }
 },
 "nbformat": 4,
 "nbformat_minor": 5
}
